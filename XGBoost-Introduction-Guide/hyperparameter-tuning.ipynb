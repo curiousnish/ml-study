{
 "cells": [
  {
   "cell_type": "code",
   "execution_count": 12,
   "metadata": {},
   "outputs": [],
   "source": [
    "import zipfile\n",
    "import pandas as pd\n",
    "\n",
    "from sklearn.model_selection import train_test_split\n",
    "from sklearn.metrics import accuracy_score\n",
    "from xgboost import XGBClassifier, plot_importance\n",
    "from sklearn.model_selection import StratifiedKFold, GridSearchCV"
   ]
  },
  {
   "cell_type": "markdown",
   "metadata": {},
   "source": [
    "# Getting the Data"
   ]
  },
  {
   "cell_type": "markdown",
   "metadata": {},
   "source": [
    "Link of the dataset - https://www.kaggle.com/datasets/uciml/pima-indians-diabetes-database"
   ]
  },
  {
   "cell_type": "code",
   "execution_count": null,
   "metadata": {},
   "outputs": [
    {
     "name": "stdout",
     "output_type": "stream",
     "text": [
      "404 - Not Found\n"
     ]
    }
   ],
   "source": [
    "!kaggle datasets download -d uciml/pima-indians-diabetes-database"
   ]
  },
  {
   "cell_type": "code",
   "execution_count": null,
   "metadata": {},
   "outputs": [],
   "source": [
    "# extract the files in temp folder\n",
    "with zipfile.ZipFile(\"pima-indians-diabetes-database.zip\", 'r') as zip_ref:\n",
    "    zip_ref.extractall('temp')"
   ]
  },
  {
   "cell_type": "code",
   "execution_count": 2,
   "metadata": {},
   "outputs": [
    {
     "data": {
      "text/html": [
       "<div>\n",
       "<style scoped>\n",
       "    .dataframe tbody tr th:only-of-type {\n",
       "        vertical-align: middle;\n",
       "    }\n",
       "\n",
       "    .dataframe tbody tr th {\n",
       "        vertical-align: top;\n",
       "    }\n",
       "\n",
       "    .dataframe thead th {\n",
       "        text-align: right;\n",
       "    }\n",
       "</style>\n",
       "<table border=\"1\" class=\"dataframe\">\n",
       "  <thead>\n",
       "    <tr style=\"text-align: right;\">\n",
       "      <th></th>\n",
       "      <th>Pregnancies</th>\n",
       "      <th>Glucose</th>\n",
       "      <th>BloodPressure</th>\n",
       "      <th>SkinThickness</th>\n",
       "      <th>Insulin</th>\n",
       "      <th>BMI</th>\n",
       "      <th>DiabetesPedigreeFunction</th>\n",
       "      <th>Age</th>\n",
       "      <th>Outcome</th>\n",
       "    </tr>\n",
       "  </thead>\n",
       "  <tbody>\n",
       "    <tr>\n",
       "      <th>0</th>\n",
       "      <td>6</td>\n",
       "      <td>148</td>\n",
       "      <td>72</td>\n",
       "      <td>35</td>\n",
       "      <td>0</td>\n",
       "      <td>33.6</td>\n",
       "      <td>0.627</td>\n",
       "      <td>50</td>\n",
       "      <td>1</td>\n",
       "    </tr>\n",
       "    <tr>\n",
       "      <th>1</th>\n",
       "      <td>1</td>\n",
       "      <td>85</td>\n",
       "      <td>66</td>\n",
       "      <td>29</td>\n",
       "      <td>0</td>\n",
       "      <td>26.6</td>\n",
       "      <td>0.351</td>\n",
       "      <td>31</td>\n",
       "      <td>0</td>\n",
       "    </tr>\n",
       "    <tr>\n",
       "      <th>2</th>\n",
       "      <td>8</td>\n",
       "      <td>183</td>\n",
       "      <td>64</td>\n",
       "      <td>0</td>\n",
       "      <td>0</td>\n",
       "      <td>23.3</td>\n",
       "      <td>0.672</td>\n",
       "      <td>32</td>\n",
       "      <td>1</td>\n",
       "    </tr>\n",
       "    <tr>\n",
       "      <th>3</th>\n",
       "      <td>1</td>\n",
       "      <td>89</td>\n",
       "      <td>66</td>\n",
       "      <td>23</td>\n",
       "      <td>94</td>\n",
       "      <td>28.1</td>\n",
       "      <td>0.167</td>\n",
       "      <td>21</td>\n",
       "      <td>0</td>\n",
       "    </tr>\n",
       "    <tr>\n",
       "      <th>4</th>\n",
       "      <td>0</td>\n",
       "      <td>137</td>\n",
       "      <td>40</td>\n",
       "      <td>35</td>\n",
       "      <td>168</td>\n",
       "      <td>43.1</td>\n",
       "      <td>2.288</td>\n",
       "      <td>33</td>\n",
       "      <td>1</td>\n",
       "    </tr>\n",
       "  </tbody>\n",
       "</table>\n",
       "</div>"
      ],
      "text/plain": [
       "   Pregnancies  Glucose  BloodPressure  SkinThickness  Insulin   BMI  \\\n",
       "0            6      148             72             35        0  33.6   \n",
       "1            1       85             66             29        0  26.6   \n",
       "2            8      183             64              0        0  23.3   \n",
       "3            1       89             66             23       94  28.1   \n",
       "4            0      137             40             35      168  43.1   \n",
       "\n",
       "   DiabetesPedigreeFunction  Age  Outcome  \n",
       "0                     0.627   50        1  \n",
       "1                     0.351   31        0  \n",
       "2                     0.672   32        1  \n",
       "3                     0.167   21        0  \n",
       "4                     2.288   33        1  "
      ]
     },
     "execution_count": 2,
     "metadata": {},
     "output_type": "execute_result"
    }
   ],
   "source": [
    "df = pd.read_csv('../temp/diabetes.csv')\n",
    "df.head()"
   ]
  },
  {
   "cell_type": "code",
   "execution_count": 3,
   "metadata": {},
   "outputs": [],
   "source": [
    "X = df.drop('Outcome', axis=1).values\n",
    "y = df['Outcome']"
   ]
  },
  {
   "cell_type": "code",
   "execution_count": 22,
   "metadata": {},
   "outputs": [],
   "source": [
    "seed = 42\n",
    "X_train, X_test, y_train, y_test = train_test_split(X, y, test_size=0.33, random_state=seed)"
   ]
  },
  {
   "cell_type": "markdown",
   "metadata": {},
   "source": [
    "### GridSearch CV"
   ]
  },
  {
   "cell_type": "code",
   "execution_count": 9,
   "metadata": {},
   "outputs": [],
   "source": [
    "model = XGBClassifier(use_label_encoder=False)"
   ]
  },
  {
   "cell_type": "code",
   "execution_count": 10,
   "metadata": {},
   "outputs": [],
   "source": [
    "n_estimators = [50, 100, 150, 200]\n",
    "max_depth = [2, 4, 6, 8]\n",
    "learning_rate = [0.0001, 0.001, 0.01, 0.1, 0.2, 0.3]\n",
    "param_grid = dict(max_depth=max_depth, n_estimators=n_estimators, learning_rate=learning_rate)"
   ]
  },
  {
   "cell_type": "code",
   "execution_count": 19,
   "metadata": {},
   "outputs": [
    {
     "name": "stdout",
     "output_type": "stream",
     "text": [
      "Fitting 10 folds for each of 96 candidates, totalling 960 fits\n",
      "[17:53:31] WARNING: D:\\bld\\xgboost-split_1645118015404\\work\\src\\learner.cc:1115: Starting in XGBoost 1.3.0, the default evaluation metric used with the objective 'binary:logistic' was changed from 'error' to 'logloss'. Explicitly set eval_metric if you'd like to restore the old behavior.\n"
     ]
    }
   ],
   "source": [
    "kfold = StratifiedKFold(n_splits=10, shuffle=True, random_state=42)\n",
    "grid_search = GridSearchCV(model, param_grid, scoring=\"neg_log_loss\", n_jobs=-1, cv=kfold, verbose=1)\n",
    "grid_result = grid_search.fit(X,y)"
   ]
  },
  {
   "cell_type": "code",
   "execution_count": 20,
   "metadata": {},
   "outputs": [
    {
     "name": "stdout",
     "output_type": "stream",
     "text": [
      "Best: -0.468283 using {'learning_rate': 0.1, 'max_depth': 2, 'n_estimators': 100}\n"
     ]
    }
   ],
   "source": [
    "# summarize results\n",
    "print(\"Best: %f using %s\" % (grid_result.best_score_, grid_result.best_params_))\n",
    "# means = grid_result.cv_results_['mean_test_score']\n",
    "# stds = grid_result.cv_results_['std_test_score']\n",
    "# params = grid_result.cv_results_['params']\n",
    "# for mean, stdev, param in zip(means, stds, params):\n",
    "# \tprint(\"%f (%f) with: %r\" % (mean, stdev, param))"
   ]
  },
  {
   "cell_type": "code",
   "execution_count": 21,
   "metadata": {},
   "outputs": [],
   "source": [
    "best_model = XGBClassifier(learning_rate=0.1, max_depth=2, n_estimators=100, use_label_encoder=False)"
   ]
  },
  {
   "cell_type": "code",
   "execution_count": 25,
   "metadata": {},
   "outputs": [
    {
     "name": "stdout",
     "output_type": "stream",
     "text": [
      "[0]\tvalidation_0-logloss:0.66739\n",
      "[1]\tvalidation_0-logloss:0.64646\n",
      "[2]\tvalidation_0-logloss:0.62454\n",
      "[3]\tvalidation_0-logloss:0.60999\n",
      "[4]\tvalidation_0-logloss:0.59684\n",
      "[5]\tvalidation_0-logloss:0.58396\n",
      "[6]\tvalidation_0-logloss:0.57465\n",
      "[7]\tvalidation_0-logloss:0.56465\n",
      "[8]\tvalidation_0-logloss:0.55654\n",
      "[9]\tvalidation_0-logloss:0.55032\n",
      "[10]\tvalidation_0-logloss:0.54424\n",
      "[11]\tvalidation_0-logloss:0.53928\n",
      "[12]\tvalidation_0-logloss:0.53479\n",
      "[13]\tvalidation_0-logloss:0.53072\n",
      "[14]\tvalidation_0-logloss:0.52740\n",
      "[15]\tvalidation_0-logloss:0.52433\n",
      "[16]\tvalidation_0-logloss:0.52240\n",
      "[17]\tvalidation_0-logloss:0.52010\n",
      "[18]\tvalidation_0-logloss:0.51890\n",
      "[19]\tvalidation_0-logloss:0.51668\n",
      "[20]\tvalidation_0-logloss:0.51597\n",
      "[21]\tvalidation_0-logloss:0.51458\n",
      "[22]\tvalidation_0-logloss:0.51360\n",
      "[23]\tvalidation_0-logloss:0.51122\n",
      "[24]\tvalidation_0-logloss:0.51118\n",
      "[25]\tvalidation_0-logloss:0.51080\n",
      "[26]\tvalidation_0-logloss:0.51070\n",
      "[27]\tvalidation_0-logloss:0.50996\n",
      "[28]\tvalidation_0-logloss:0.50931\n",
      "[29]\tvalidation_0-logloss:0.50824\n",
      "[30]\tvalidation_0-logloss:0.50775\n",
      "[31]\tvalidation_0-logloss:0.50864\n",
      "[32]\tvalidation_0-logloss:0.50748\n",
      "[33]\tvalidation_0-logloss:0.50722\n",
      "[34]\tvalidation_0-logloss:0.50643\n",
      "[35]\tvalidation_0-logloss:0.50716\n",
      "[36]\tvalidation_0-logloss:0.50704\n",
      "[37]\tvalidation_0-logloss:0.50732\n",
      "[38]\tvalidation_0-logloss:0.50588\n",
      "[39]\tvalidation_0-logloss:0.50626\n",
      "[40]\tvalidation_0-logloss:0.50499\n",
      "[41]\tvalidation_0-logloss:0.50594\n",
      "[42]\tvalidation_0-logloss:0.50456\n",
      "[43]\tvalidation_0-logloss:0.50383\n",
      "[44]\tvalidation_0-logloss:0.50370\n",
      "[45]\tvalidation_0-logloss:0.50351\n",
      "[46]\tvalidation_0-logloss:0.50401\n",
      "[47]\tvalidation_0-logloss:0.50449\n",
      "[48]\tvalidation_0-logloss:0.50393\n",
      "[49]\tvalidation_0-logloss:0.50400\n",
      "[50]\tvalidation_0-logloss:0.50233\n",
      "[51]\tvalidation_0-logloss:0.50121\n",
      "[52]\tvalidation_0-logloss:0.50081\n",
      "[53]\tvalidation_0-logloss:0.50116\n",
      "[54]\tvalidation_0-logloss:0.49966\n",
      "[55]\tvalidation_0-logloss:0.50036\n",
      "[56]\tvalidation_0-logloss:0.50020\n",
      "[57]\tvalidation_0-logloss:0.50031\n",
      "[58]\tvalidation_0-logloss:0.50069\n",
      "[59]\tvalidation_0-logloss:0.50108\n",
      "[60]\tvalidation_0-logloss:0.50221\n",
      "[61]\tvalidation_0-logloss:0.50104\n",
      "[62]\tvalidation_0-logloss:0.49972\n",
      "[63]\tvalidation_0-logloss:0.50036\n"
     ]
    },
    {
     "data": {
      "text/plain": [
       "XGBClassifier(base_score=0.5, booster='gbtree', colsample_bylevel=1,\n",
       "              colsample_bynode=1, colsample_bytree=1, enable_categorical=False,\n",
       "              gamma=0, gpu_id=-1, importance_type=None,\n",
       "              interaction_constraints='', learning_rate=0.1, max_delta_step=0,\n",
       "              max_depth=2, min_child_weight=1, missing=nan,\n",
       "              monotone_constraints='()', n_estimators=100, n_jobs=12,\n",
       "              num_parallel_tree=1, predictor='auto', random_state=0,\n",
       "              reg_alpha=0, reg_lambda=1, scale_pos_weight=1, subsample=1,\n",
       "              tree_method='exact', use_label_encoder=False,\n",
       "              validate_parameters=1, verbosity=None)"
      ]
     },
     "execution_count": 25,
     "metadata": {},
     "output_type": "execute_result"
    }
   ],
   "source": [
    "best_model.fit(X_train, y_train, eval_metric='logloss', early_stopping_rounds=10, eval_set=[(X_test, y_test)], verbose=True)"
   ]
  },
  {
   "cell_type": "code",
   "execution_count": 26,
   "metadata": {},
   "outputs": [
    {
     "data": {
      "text/plain": [
       "0.7677165354330708"
      ]
     },
     "execution_count": 26,
     "metadata": {},
     "output_type": "execute_result"
    }
   ],
   "source": [
    "best_model.score(X_test, y_test)"
   ]
  },
  {
   "cell_type": "code",
   "execution_count": null,
   "metadata": {},
   "outputs": [],
   "source": []
  }
 ],
 "metadata": {
  "interpreter": {
   "hash": "78604b0cba014cc75114c76d5f4bbde3e07d55ea65082cd1a9f5e6b30898585c"
  },
  "kernelspec": {
   "display_name": "Python 3.9.7 ('ml')",
   "language": "python",
   "name": "python3"
  },
  "language_info": {
   "codemirror_mode": {
    "name": "ipython",
    "version": 3
   },
   "file_extension": ".py",
   "mimetype": "text/x-python",
   "name": "python",
   "nbconvert_exporter": "python",
   "pygments_lexer": "ipython3",
   "version": "3.9.7"
  },
  "orig_nbformat": 4
 },
 "nbformat": 4,
 "nbformat_minor": 2
}
