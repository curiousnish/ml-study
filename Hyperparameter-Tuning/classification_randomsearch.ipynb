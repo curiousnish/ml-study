{
 "cells": [
  {
   "cell_type": "code",
   "execution_count": 5,
   "metadata": {},
   "outputs": [],
   "source": [
    "import pandas as pd\n",
    "from sklearn.linear_model import LogisticRegression\n",
    "from sklearn.model_selection import RepeatedStratifiedKFold, RandomizedSearchCV\n",
    "from scipy.stats import loguniform"
   ]
  },
  {
   "cell_type": "code",
   "execution_count": 6,
   "metadata": {},
   "outputs": [],
   "source": [
    "# Load the dataset\n",
    "df = pd.read_csv('sonar.csv', header=None)"
   ]
  },
  {
   "cell_type": "code",
   "execution_count": 7,
   "metadata": {},
   "outputs": [
    {
     "data": {
      "text/plain": [
       "((208, 60), (208,))"
      ]
     },
     "execution_count": 7,
     "metadata": {},
     "output_type": "execute_result"
    }
   ],
   "source": [
    "# Split the Dataset\n",
    "data = df.values\n",
    "X, y = data[:, :-1], data[:, -1]\n",
    "X.shape, y.shape"
   ]
  },
  {
   "cell_type": "code",
   "execution_count": 8,
   "metadata": {},
   "outputs": [],
   "source": [
    "# define Model\n",
    "model = LogisticRegression()"
   ]
  },
  {
   "cell_type": "code",
   "execution_count": 9,
   "metadata": {},
   "outputs": [],
   "source": [
    "# define evaluation\n",
    "cv = RepeatedStratifiedKFold(n_splits=10, n_repeats=3, random_state=42)"
   ]
  },
  {
   "cell_type": "code",
   "execution_count": 10,
   "metadata": {},
   "outputs": [],
   "source": [
    "# define search space\n",
    "space = dict()\n",
    "space['solver'] = ['newton-cg', 'lbfgs', 'liblinear']\n",
    "space['penalty'] = ['none', 'l1', 'l2', 'elasticnet']\n",
    "space['C'] = loguniform(1e-5, 100)"
   ]
  },
  {
   "cell_type": "code",
   "execution_count": 11,
   "metadata": {},
   "outputs": [],
   "source": [
    "# define search\n",
    "search = RandomizedSearchCV(model, space, cv=cv, scoring='accuracy', n_iter=500, n_jobs=-1, random_state=42)"
   ]
  },
  {
   "cell_type": "code",
   "execution_count": 14,
   "metadata": {},
   "outputs": [
    {
     "name": "stderr",
     "output_type": "stream",
     "text": [
      "C:\\Users\\spartan\\anaconda3\\lib\\site-packages\\sklearn\\model_selection\\_search.py:922: UserWarning: One or more of the test scores are non-finite: [       nan 0.7468254  0.53380952        nan        nan        nan\n",
      "        nan        nan 0.7468254  0.69325397        nan 0.63920635\n",
      " 0.53380952 0.53380952 0.53380952        nan 0.74793651        nan\n",
      "        nan 0.7902381         nan        nan        nan        nan\n",
      "        nan 0.78349206 0.74793651        nan 0.74793651        nan\n",
      " 0.53380952 0.53380952        nan        nan 0.78857143        nan\n",
      " 0.74793651 0.53380952        nan 0.53380952 0.6952381  0.76119048\n",
      " 0.76285714 0.53380952        nan 0.58984127 0.7468254         nan\n",
      "        nan        nan 0.53380952        nan 0.7468254         nan\n",
      "        nan        nan 0.7468254  0.7468254  0.78198413 0.74793651\n",
      " 0.53380952 0.53380952        nan        nan        nan 0.7802381\n",
      "        nan        nan 0.56444444        nan 0.74793651        nan\n",
      " 0.76269841        nan        nan        nan 0.53380952 0.76111111\n",
      " 0.53380952        nan        nan        nan 0.74793651        nan\n",
      "        nan        nan        nan        nan        nan        nan\n",
      "        nan 0.75944444        nan        nan 0.74793651        nan\n",
      "        nan 0.7468254         nan        nan 0.67769841        nan\n",
      "        nan        nan 0.74793651 0.76587302        nan        nan\n",
      "        nan 0.74793651 0.7468254  0.74793651 0.76277778 0.7468254\n",
      "        nan 0.74793651 0.75960317        nan 0.60571429 0.53380952\n",
      " 0.7468254  0.53380952 0.53380952 0.7468254  0.53380952        nan\n",
      "        nan 0.77412698 0.53380952 0.77857143        nan        nan\n",
      "        nan 0.53380952 0.7468254         nan 0.53380952        nan\n",
      "        nan        nan 0.53380952        nan 0.53380952 0.74793651\n",
      " 0.76603175        nan 0.7468254  0.76611111        nan 0.53380952\n",
      " 0.7468254         nan        nan        nan        nan        nan\n",
      "        nan        nan        nan        nan        nan        nan\n",
      "        nan 0.7468254  0.7902381  0.7468254  0.77071429 0.53380952\n",
      " 0.53380952 0.74793651        nan 0.53380952        nan        nan\n",
      "        nan 0.74793651        nan        nan        nan 0.7468254\n",
      " 0.77865079        nan        nan 0.53380952        nan        nan\n",
      " 0.53380952 0.76277778 0.7468254         nan        nan 0.78698413\n",
      " 0.75801587        nan        nan 0.78349206        nan 0.53380952\n",
      "        nan        nan 0.74793651        nan        nan 0.7468254\n",
      " 0.77738095        nan        nan 0.53380952        nan        nan\n",
      " 0.78865079        nan        nan 0.74793651        nan        nan\n",
      "        nan        nan 0.74793651 0.74793651 0.7468254  0.76111111\n",
      "        nan        nan        nan        nan        nan 0.7468254\n",
      " 0.53380952 0.7468254  0.7468254  0.53380952 0.76436508        nan\n",
      " 0.75960317 0.53380952 0.77079365 0.74793651 0.53380952 0.7468254\n",
      " 0.63293651        nan 0.7468254  0.75801587 0.7468254  0.75801587\n",
      "        nan 0.53380952        nan        nan        nan        nan\n",
      " 0.7868254         nan 0.53380952 0.70809524 0.7468254  0.73857143\n",
      "        nan        nan 0.54992063        nan        nan 0.54507937\n",
      " 0.7468254         nan        nan 0.74793651 0.53380952 0.53380952\n",
      " 0.53380952        nan 0.77253968        nan 0.53380952        nan\n",
      " 0.74793651 0.74793651 0.74793651 0.53380952 0.53380952        nan\n",
      "        nan        nan 0.53380952 0.76777778        nan        nan\n",
      " 0.77412698 0.53380952 0.76595238 0.74793651 0.5947619         nan\n",
      " 0.53380952 0.53380952        nan        nan 0.77865079 0.66325397\n",
      " 0.78349206        nan        nan 0.71785714 0.7468254         nan\n",
      " 0.53380952        nan 0.53380952 0.53380952        nan        nan\n",
      "        nan        nan 0.74793651        nan        nan 0.53380952\n",
      "        nan 0.74793651        nan 0.68047619 0.74793651        nan\n",
      "        nan        nan 0.7468254  0.53380952 0.53380952        nan\n",
      "        nan        nan        nan        nan        nan 0.7468254\n",
      "        nan 0.7468254  0.53380952        nan        nan 0.7468254\n",
      " 0.53539683        nan        nan 0.53380952 0.53380952        nan\n",
      "        nan 0.7468254  0.53380952        nan 0.78349206        nan\n",
      "        nan        nan 0.7468254         nan 0.76285714        nan\n",
      "        nan        nan 0.53380952 0.53380952        nan 0.72111111\n",
      "        nan        nan        nan 0.54190476        nan 0.76444444\n",
      " 0.74793651 0.76111111 0.76444444        nan 0.7468254         nan\n",
      "        nan 0.74793651 0.76595238 0.53380952 0.60912698 0.63293651\n",
      " 0.53380952 0.7468254  0.78698413        nan 0.7468254         nan\n",
      " 0.7468254         nan 0.55150794        nan 0.7468254         nan\n",
      " 0.53380952        nan        nan 0.6968254  0.53380952        nan\n",
      "        nan        nan        nan 0.68095238 0.74793651        nan\n",
      "        nan 0.78666667 0.54015873        nan 0.53380952 0.53380952\n",
      "        nan        nan 0.74793651 0.77420635 0.53380952 0.54349206\n",
      " 0.7468254         nan        nan        nan        nan        nan\n",
      " 0.74793651        nan 0.74793651        nan 0.74793651 0.53380952\n",
      " 0.74793651        nan 0.74793651 0.7902381         nan 0.76595238\n",
      "        nan 0.77222222        nan        nan        nan 0.78349206\n",
      "        nan        nan        nan 0.53380952 0.65666667        nan\n",
      " 0.53380952 0.71293651        nan        nan 0.7468254         nan\n",
      "        nan        nan 0.53380952        nan 0.53380952 0.74793651\n",
      "        nan        nan 0.7468254         nan        nan 0.76587302\n",
      " 0.53380952        nan        nan 0.65515873 0.53380952        nan\n",
      " 0.74793651        nan 0.63611111 0.72079365        nan        nan\n",
      " 0.53380952 0.53380952        nan 0.7468254         nan        nan\n",
      " 0.53380952        nan        nan 0.74793651        nan        nan\n",
      "        nan        nan        nan        nan        nan 0.76761905\n",
      "        nan 0.7468254 ]\n",
      "  warnings.warn(\n"
     ]
    }
   ],
   "source": [
    "# execute search\n",
    "result = search.fit(X,y)"
   ]
  },
  {
   "cell_type": "code",
   "execution_count": 15,
   "metadata": {},
   "outputs": [
    {
     "name": "stdout",
     "output_type": "stream",
     "text": [
      "Best Score: 0.7902380952380954\n",
      "Best Hyperparameters: {'C': 6.7977373780145545, 'penalty': 'l2', 'solver': 'lbfgs'}\n"
     ]
    }
   ],
   "source": [
    "# summarize result\n",
    "print('Best Score: %s' % result.best_score_)\n",
    "print('Best Hyperparameters: %s' % result.best_params_)"
   ]
  },
  {
   "cell_type": "code",
   "execution_count": null,
   "metadata": {},
   "outputs": [],
   "source": []
  }
 ],
 "metadata": {
  "interpreter": {
   "hash": "99e177ecd68797916b01c984565efb7b61ee4714be0d2b6c28111c44b724aaaa"
  },
  "kernelspec": {
   "display_name": "Python 3.9.7 ('base')",
   "language": "python",
   "name": "python3"
  },
  "language_info": {
   "codemirror_mode": {
    "name": "ipython",
    "version": 3
   },
   "file_extension": ".py",
   "mimetype": "text/x-python",
   "name": "python",
   "nbconvert_exporter": "python",
   "pygments_lexer": "ipython3",
   "version": "3.9.7"
  },
  "orig_nbformat": 4
 },
 "nbformat": 4,
 "nbformat_minor": 2
}
